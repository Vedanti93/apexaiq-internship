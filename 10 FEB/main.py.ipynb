{
 "cells": [
  {
   "cell_type": "code",
   "execution_count": null,
   "id": "8b0847b1",
   "metadata": {},
   "outputs": [],
   "source": [
    "%%writefile main.py\n",
    "import requests\n",
    "import json\n",
    "\n",
    "API_KEY = \"9b5070fb090cf73c14b0b2d180ee880a\"\n",
    "BASE_URL = \"https://api.openweathermap.org/data/2.5/\"\n",
    "\n",
    "def get_weather_by_city(city):\n",
    "    url = f\"{BASE_URL}weather?q={city}&appid={API_KEY}&units=metric\"\n",
    "    response = requests.get(url)\n",
    "    return response.json()\n",
    "\n",
    "def get_weather_by_coordinates(lat, lon):\n",
    "    url = f\"{BASE_URL}weather?lat={lat}&lon={lon}&appid={API_KEY}&units=metric\"\n",
    "    response = requests.get(url)\n",
    "    return response.json()\n",
    "\n",
    "def get_forecast_by_city(city):\n",
    "    url = f\"{BASE_URL}forecast?q={city}&appid={API_KEY}&units=metric\"\n",
    "    response = requests.get(url)\n",
    "    return response.json()\n",
    "\n",
    "def get_air_pollution(lat, lon):\n",
    "    url = f\"{BASE_URL}air_pollution?lat={lat}&lon={lon}&appid={API_KEY}\"\n",
    "    response = requests.get(url)\n",
    "    return response.json()\n",
    "\n",
    "if __name__ == \"__main__\":\n",
    "    city = \"Mumbai\"\n",
    "    print(json.dumps(get_weather_by_city(city), indent=4))\n"
   ]
  },
  {
   "cell_type": "code",
   "execution_count": null,
   "id": "118385be",
   "metadata": {},
   "outputs": [],
   "source": [
    "!dir main.py"
   ]
  },
  {
   "cell_type": "code",
   "execution_count": null,
   "id": "4c885044",
   "metadata": {},
   "outputs": [],
   "source": [
    "!python main.py"
   ]
  }
 ],
 "metadata": {
  "kernelspec": {
   "display_name": "Python 3 (ipykernel)",
   "language": "python",
   "name": "python3"
  },
  "language_info": {
   "codemirror_mode": {
    "name": "ipython",
    "version": 3
   },
   "file_extension": ".py",
   "mimetype": "text/x-python",
   "name": "python",
   "nbconvert_exporter": "python",
   "pygments_lexer": "ipython3",
   "version": "3.9.13"
  }
 },
 "nbformat": 4,
 "nbformat_minor": 5
}
