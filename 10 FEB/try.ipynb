{
 "cells": [
  {
   "cell_type": "code",
   "execution_count": null,
   "id": "cc2b8caa",
   "metadata": {},
   "outputs": [],
   "source": [
    "%%writefile try.py\n",
    "from main import get_weather_by_city\n",
    "import json\n",
    "\n",
    "city = input(\"Enter city name: \")\n",
    "data = get_weather_by_city(city)\n",
    "print(json.dumps(data, indent=4))\n"
   ]
  },
  {
   "cell_type": "code",
   "execution_count": null,
   "id": "74895505",
   "metadata": {},
   "outputs": [],
   "source": [
    "!pytest test_weatherapi.py\n",
    "!pytest test_data_weatherapi.py\n"
   ]
  },
  {
   "cell_type": "code",
   "execution_count": null,
   "id": "c2855595",
   "metadata": {},
   "outputs": [],
   "source": [
    "%run try.py"
   ]
  }
 ],
 "metadata": {
  "kernelspec": {
   "display_name": "Python 3 (ipykernel)",
   "language": "python",
   "name": "python3"
  },
  "language_info": {
   "codemirror_mode": {
    "name": "ipython",
    "version": 3
   },
   "file_extension": ".py",
   "mimetype": "text/x-python",
   "name": "python",
   "nbconvert_exporter": "python",
   "pygments_lexer": "ipython3",
   "version": "3.9.13"
  }
 },
 "nbformat": 4,
 "nbformat_minor": 5
}
