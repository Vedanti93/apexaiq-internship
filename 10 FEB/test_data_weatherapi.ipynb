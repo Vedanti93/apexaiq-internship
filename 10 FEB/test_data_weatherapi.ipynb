{
 "cells": [
  {
   "cell_type": "code",
   "execution_count": null,
   "id": "51a49b15",
   "metadata": {},
   "outputs": [],
   "source": [
    "%%writefile test_data_weatherapi.py\n",
    "import pytest\n",
    "from main import get_weather_by_city\n",
    "\n",
    "def test_weather_response_structure():\n",
    "    data = get_weather_by_city(\"Mumbai\")\n",
    "    assert isinstance(data, dict)\n",
    "    assert \"main\" in data\n",
    "    assert \"weather\" in data\n",
    "    assert \"temp\" in data[\"main\"]\n",
    "\n",
    "def test_weather_temp_range():\n",
    "    data = get_weather_by_city(\"Mumbai\")\n",
    "    temp = data[\"main\"][\"temp\"]\n",
    "    assert -50 <= temp <= 60  # Assuming valid temperature range\n"
   ]
  },
  {
   "cell_type": "code",
   "execution_count": null,
   "id": "5497fad5",
   "metadata": {},
   "outputs": [],
   "source": [
    "!dir test_data_weatherapi.py"
   ]
  },
  {
   "cell_type": "code",
   "execution_count": null,
   "id": "a6cca7b3",
   "metadata": {},
   "outputs": [],
   "source": [
    "!pytest test_data_weatherapi.py"
   ]
  }
 ],
 "metadata": {
  "kernelspec": {
   "display_name": "Python 3 (ipykernel)",
   "language": "python",
   "name": "python3"
  },
  "language_info": {
   "codemirror_mode": {
    "name": "ipython",
    "version": 3
   },
   "file_extension": ".py",
   "mimetype": "text/x-python",
   "name": "python",
   "nbconvert_exporter": "python",
   "pygments_lexer": "ipython3",
   "version": "3.9.13"
  }
 },
 "nbformat": 4,
 "nbformat_minor": 5
}
