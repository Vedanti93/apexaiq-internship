{
 "cells": [
  {
   "cell_type": "code",
   "execution_count": null,
   "id": "ed14289b",
   "metadata": {},
   "outputs": [],
   "source": [
    "%%writefile test_weatherapi.py\n",
    "import pytest\n",
    "from main import get_weather_by_city, get_weather_by_coordinates, get_forecast_by_city, get_air_pollution\n",
    "\n",
    "def test_get_weather_by_city():\n",
    "    data = get_weather_by_city(\"Mumbai\")\n",
    "    assert \"main\" in data\n",
    "    assert \"weather\" in data\n",
    "\n",
    "def test_get_weather_by_coordinates():\n",
    "    data = get_weather_by_coordinates(19.076, 72.8777)\n",
    "    assert \"main\" in data\n",
    "    assert \"weather\" in data\n",
    "\n",
    "def test_get_forecast_by_city():\n",
    "    data = get_forecast_by_city(\"Mumbai\")\n",
    "    assert \"list\" in data\n",
    "    assert len(data[\"list\"]) > 0\n",
    "\n",
    "def test_get_air_pollution():\n",
    "    data = get_air_pollution(19.076, 72.8777)\n",
    "    assert \"list\" in data\n",
    "    assert len(data[\"list\"]) > 0\n"
   ]
  },
  {
   "cell_type": "code",
   "execution_count": null,
   "id": "b51f1340",
   "metadata": {},
   "outputs": [],
   "source": [
    "!pytest test_weatherapi.py\n"
   ]
  }
 ],
 "metadata": {
  "kernelspec": {
   "display_name": "Python 3 (ipykernel)",
   "language": "python",
   "name": "python3"
  },
  "language_info": {
   "codemirror_mode": {
    "name": "ipython",
    "version": 3
   },
   "file_extension": ".py",
   "mimetype": "text/x-python",
   "name": "python",
   "nbconvert_exporter": "python",
   "pygments_lexer": "ipython3",
   "version": "3.9.13"
  }
 },
 "nbformat": 4,
 "nbformat_minor": 5
}
