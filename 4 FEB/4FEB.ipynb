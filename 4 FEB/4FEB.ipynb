{
 "cells": [
  {
   "cell_type": "code",
   "execution_count": null,
   "id": "fa964a22",
   "metadata": {},
   "outputs": [],
   "source": [
    "from collections import defaultdict\n",
    "\n",
    "\n",
    "def count_special_subarrays(A, N):\n",
    "    prefixXOR = 0\n",
    "    prefixSum = 0\n",
    "    count = 0\n",
    "    diff_count = defaultdict(int)\n",
    "\n",
    "\n",
    "    diff_count[0] = 1\n",
    "\n",
    "    for i in range(N):\n",
    "        prefixXOR ^= A[i]\n",
    "        prefixSum += A[i]\n",
    "\n",
    "        diff = prefixXOR - prefixSum\n",
    "        count += diff_count[diff]\n",
    "\n",
    "        diff_count[diff] += 1\n",
    "\n",
    "    return count\n",
    "\n",
    "\n",
    "\n",
    "T = int(input())\n",
    "for _ in range(T):\n",
    "    N = int(input())\n",
    "    A = list(map(int, input().split()))\n",
    "    print(count_special_subarrays(A, N))"
   ]
  }
 ],
 "metadata": {
  "kernelspec": {
   "display_name": "Python 3 (ipykernel)",
   "language": "python",
   "name": "python3"
  },
  "language_info": {
   "codemirror_mode": {
    "name": "ipython",
    "version": 3
   },
   "file_extension": ".py",
   "mimetype": "text/x-python",
   "name": "python",
   "nbconvert_exporter": "python",
   "pygments_lexer": "ipython3",
   "version": "3.9.13"
  }
 },
 "nbformat": 4,
 "nbformat_minor": 5
}
