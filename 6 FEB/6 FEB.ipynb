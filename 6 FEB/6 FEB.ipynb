{
 "cells": [
  {
   "cell_type": "code",
   "execution_count": null,
   "id": "59b7317d",
   "metadata": {},
   "outputs": [],
   "source": [
    "!pip install pytest requests\n"
   ]
  },
  {
   "cell_type": "code",
   "execution_count": null,
   "id": "d6fad704",
   "metadata": {},
   "outputs": [],
   "source": [
    "with open(\"test_api.py\", \"w\") as f:\n",
    "    f.write('''import requests\n",
    "import pytest\n",
    "\n",
    "def test_sample():\n",
    "    url = \"https://jsonplaceholder.typicode.com/users/1\"\n",
    "    response = requests.get(url)\n",
    "    assert response.status_code == 200, f\"Expected status 200 but got {response.status_code}\"\n",
    "    print(\"Test Passed!\")\n",
    "\n",
    "''')\n",
    "\n",
    "print(\"File 'test_api.py' created successfully!\")\n"
   ]
  },
  {
   "cell_type": "code",
   "execution_count": null,
   "id": "4f072664",
   "metadata": {},
   "outputs": [],
   "source": [
    "import os\n",
    "print(os.getcwd())  # Prints the current working directory\n"
   ]
  },
  {
   "cell_type": "code",
   "execution_count": null,
   "id": "462741e6",
   "metadata": {},
   "outputs": [],
   "source": [
    "import pytest\n",
    "import requests\n",
    "\n",
    "# Base URL for testing\n",
    "base_url = \"https://jsonplaceholder.typicode.com\"\n",
    "\n",
    "# Define the test case using pytest\n",
    "@pytest.mark.parametrize(\"user_id\", [1, 2, 3])  # Test for multiple user IDs\n",
    "def test_get_user_request(user_id):\n",
    "    url = f\"{base_url}/users/{user_id}\"  # Construct the full URL\n",
    "    response = requests.get(url)  # Send GET request\n",
    "\n",
    "    # Validate the status code is 200 (OK)\n",
    "    assert response.status_code == 200, f\"Expected status 200 but got {response.status_code}\"\n",
    "\n",
    "    # Validate the response JSON structure\n",
    "    user_data = response.json()\n",
    "    assert \"id\" in user_data, \"'id' field not found in response\"\n",
    "    assert \"name\" in user_data, \"'name' field not found in response\"\n",
    "\n",
    "    print(f\"User {user_id}: {user_data['name']} - {user_data['email']}\")\n",
    "\n",
    "\n"
   ]
  },
  {
   "cell_type": "code",
   "execution_count": null,
   "id": "0d0b31ac",
   "metadata": {},
   "outputs": [],
   "source": [
    "!pytest your_test_file.py --maxfail=1 --disable-warnings -q\n"
   ]
  },
  {
   "cell_type": "code",
   "execution_count": null,
   "id": "cacaed79",
   "metadata": {},
   "outputs": [],
   "source": [
    "import os\n",
    "print(os.listdir())\n"
   ]
  },
  {
   "cell_type": "code",
   "execution_count": null,
   "id": "c29a0e35",
   "metadata": {},
   "outputs": [],
   "source": [
    "!pytest test_api.py\n"
   ]
  }
 ],
 "metadata": {
  "kernelspec": {
   "display_name": "Python 3 (ipykernel)",
   "language": "python",
   "name": "python3"
  },
  "language_info": {
   "codemirror_mode": {
    "name": "ipython",
    "version": 3
   },
   "file_extension": ".py",
   "mimetype": "text/x-python",
   "name": "python",
   "nbconvert_exporter": "python",
   "pygments_lexer": "ipython3",
   "version": "3.9.13"
  }
 },
 "nbformat": 4,
 "nbformat_minor": 5
}
